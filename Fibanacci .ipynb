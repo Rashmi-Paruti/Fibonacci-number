{
 "cells": [
  {
   "cell_type": "markdown",
   "metadata": {},
   "source": [
    "# Defined as a function F as Fn = Fn-1 + Fn-2. Write a Python program which accepts a value for N (where N >0) as input and pass this value to the function. Display suitable error message if the condition for input value is not followed. \n"
   ]
  },
  {
   "cell_type": "code",
   "execution_count": 13,
   "metadata": {},
   "outputs": [
    {
     "name": "stdout",
     "output_type": "stream",
     "text": [
      "Enter a Number:10\n",
      "fn(10) = 34\n"
     ]
    }
   ],
   "source": [
    " \n",
    "def fn(n):  #define the Function\n",
    "    if n == 1:  #if Entered Number is Equal To 1 Returns  0 \n",
    "        return 0    #else If the Entered Number is Equal to 2 Returns the 1 \n",
    "    elif n == 2: \n",
    "        return 1\n",
    "    else: \n",
    "        return fn(n - 1) + fn(n - 2)  #else return function number  \n",
    "num = int(input(\"Enter a Number:\"))  #enter the Integer Value\n",
    "if num > 0:  #If Entered Value is Greater the 0 \n",
    "    print(\"fn(\", num, \") = \", fn(num), sep=\"\")  #Display the enterd number and fibenacci number \n",
    "else: \n",
    "    print(\"Error in input\")  #display the If entered number is less than 0 \n"
   ]
  }
 ],
 "metadata": {
  "kernelspec": {
   "display_name": "Python 3",
   "language": "python",
   "name": "python3"
  },
  "language_info": {
   "codemirror_mode": {
    "name": "ipython",
    "version": 3
   },
   "file_extension": ".py",
   "mimetype": "text/x-python",
   "name": "python",
   "nbconvert_exporter": "python",
   "pygments_lexer": "ipython3",
   "version": "3.7.4"
  }
 },
 "nbformat": 4,
 "nbformat_minor": 2
}
